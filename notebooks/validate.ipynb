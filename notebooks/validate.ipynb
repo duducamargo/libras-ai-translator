{
 "cells": [
  {
   "cell_type": "code",
   "execution_count": 2,
   "id": "889d2573",
   "metadata": {},
   "outputs": [
    {
     "name": "stderr",
     "output_type": "stream",
     "text": [
      "WARNING:absl:Compiled the loaded model, but the compiled metrics have yet to be built. `model.compile_metrics` will be empty until you train or evaluate the model.\n"
     ]
    },
    {
     "name": "stdout",
     "output_type": "stream",
     "text": [
      "Modelo carregado com sucesso!\n",
      "\u001b[1m1/1\u001b[0m \u001b[32m━━━━━━━━━━━━━━━━━━━━\u001b[0m\u001b[37m\u001b[0m \u001b[1m0s\u001b[0m 120ms/step\n",
      "\n",
      "Imagem de teste: a_0000.jpg\n",
      "Previsão do modelo: 0\n",
      "Confiança: 1.00\n"
     ]
    },
    {
     "data": {
      "image/png": "[encoded data removed]",
      "text/plain": [
       "<Figure size 640x480 with 1 Axes>"
      ]
     },
     "metadata": {},
     "output_type": "display_data"
    },
    {
     "name": "stdout",
     "output_type": "stream",
     "text": [
      "\n",
      "Probabilidades para todas as classes:\n",
      "  0: 1.0000\n",
      "  1: 0.0000\n",
      "  2: 0.0000\n",
      "  3: 0.0000\n",
      "  4: 0.0000\n",
      "  5: 0.0000\n",
      "  6: 0.0000\n",
      "  7: 0.0000\n",
      "  8: 0.0000\n",
      "  9: 0.0000\n",
      "  a: 0.0000\n",
      "  b: 0.0000\n",
      "  c: 0.0000\n",
      "  d: 0.0000\n",
      "  e: 0.0000\n",
      "  f: 0.0000\n",
      "  g: 0.0000\n",
      "  h: 0.0000\n",
      "  i: 0.0000\n",
      "  j: 0.0000\n"
     ]
    }
   ],
   "source": [
    "import tensorflow as tf\n",
    "import numpy as np\n",
    "import matplotlib.pyplot as plt\n",
    "import cv2 \n",
    "import os\n",
    "\n",
    "model_path = '../models/asl_gesture_model2.h5' \n",
    "model = tf.keras.models.load_model(model_path)\n",
    "print(\"Modelo carregado com sucesso!\")\n",
    "\n",
    "\n",
    "image_width, image_height = 32, 32 # Dimensões esperadas pelo modelo, então se mudar no treinamento, deve ser alterado aqui também\n",
    "input_shape = (image_height, image_width, 3)\n",
    "\n",
    "# Lista de classes correspondentes aos índices do modelo (na ordem em que foram treinadas)\n",
    "class_names = ['0', '1', '2', '3', '4', '5', '6', '7', '8', '9', 'a', 'b', 'c', 'd', 'e', 'f', 'g', 'h', 'i', 'j', 'k', 'l', 'm', 'n', 'o', 'p', 'q', 'r', 's', 't', 'u', 'v', 'w', 'x', 'y', 'z']\n",
    "\n",
    "# Caminho da imagem de teste\n",
    "image_path = r'../dataset/a/a_0000.jpg'\n",
    "\n",
    "\n",
    "img = cv2.imread(image_path)\n",
    "\n",
    "if img is None:\n",
    "    print(f\"Erro: Não foi possível carregar a imagem em {image_path}\")\n",
    "else:\n",
    "\n",
    "    img_rgb = cv2.cvtColor(img, cv2.COLOR_BGR2RGB)\n",
    "\n",
    "    resized_img = cv2.resize(img_rgb, (image_width, image_height))\n",
    "\n",
    "    normalized_img = resized_img.astype('float32') / 255.0\n",
    "\n",
    "    input_img = np.expand_dims(normalized_img, axis=0)\n",
    "\n",
    "    predictions = model.predict(input_img)\n",
    "\n",
    "    predicted_class_index = np.argmax(predictions[0]) \n",
    "    predicted_letter = class_names[predicted_class_index] \n",
    "    confidence = predictions[0][predicted_class_index] \n",
    "\n",
    "    print(f\"\\nImagem de teste: {os.path.basename(image_path)}\")\n",
    "    print(f\"Previsão do modelo: {predicted_letter}\")\n",
    "    print(f\"Confiança: {confidence:.2f}\")\n",
    "\n",
    "    plt.imshow(img_rgb)\n",
    "    plt.title(f\"Previsão: {predicted_letter} (Confiança: {confidence:.2f})\")\n",
    "    plt.axis('off')\n",
    "    plt.show()\n",
    "\n",
    "    print(\"\\nProbabilidades para todas as classes:\")\n",
    "    for i, prob in enumerate(predictions[0]):\n",
    "        print(f\"  {class_names[i]}: {prob:.4f}\")"
   ]
  }
 ],
 "metadata": {
  "kernelspec": {
   "display_name": "tf310",
   "language": "python",
   "name": "python3"
  },
  "language_info": {
   "codemirror_mode": {
    "name": "ipython",
    "version": 3
   },
   "file_extension": ".py",
   "mimetype": "text/x-python",
   "name": "python",
   "nbconvert_exporter": "python",
   "pygments_lexer": "ipython3",
   "version": "3.10.18"
  }
 },
 "nbformat": 4,
 "nbformat_minor": 5
}
